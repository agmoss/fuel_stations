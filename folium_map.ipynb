{
 "cells": [
  {
   "cell_type": "code",
   "execution_count": 183,
   "metadata": {},
   "outputs": [],
   "source": [
    "import nrel as path\n",
    "import folium\n",
    "from IPython.display import display"
   ]
  },
  {
   "cell_type": "code",
   "execution_count": 184,
   "metadata": {},
   "outputs": [
    {
     "name": "stdout",
     "output_type": "stream",
     "text": [
      "read pickle object: ELEC_CA_Max_500_Min_0.pickle\n"
     ]
    }
   ],
   "source": [
    "car = path.VehicleNetwork(vehicle_fuel = 'ELEC',vehicle_range=250)\n",
    "route = car.shortest_path(start='Vancouver',end='Calgary')"
   ]
  },
  {
   "cell_type": "code",
   "execution_count": 185,
   "metadata": {},
   "outputs": [],
   "source": [
    "lat,long = 0,0\n",
    "for stop in route['detailed path']:\n",
    "    for node,detail in stop.items():\n",
    "        lat = lat + detail['latitude']\n",
    "        long = long + detail['longitude']\n",
    "\n",
    "avg_lat = lat/route['number of stops']\n",
    "avg_long = long/route['number of stops']\n",
    "\n",
    "test_lat = abs(avg_lat)\n",
    "test_long = abs(avg_long)"
   ]
  },
  {
   "cell_type": "code",
   "execution_count": 186,
   "metadata": {},
   "outputs": [],
   "source": [
    "#coordiantes set to average lat/long\n",
    "#manitoba = [49.895077, -97.138451]\n",
    "def generateBaseMap(default_location=[avg_lat, avg_long], default_zoom_start=4):\n",
    "    base_map = folium.Map(location=default_location, control_scale=True, zoom_start=default_zoom_start)\n",
    "    return (base_map)"
   ]
  },
  {
   "cell_type": "code",
   "execution_count": 187,
   "metadata": {},
   "outputs": [],
   "source": [
    "base_map = generateBaseMap()"
   ]
  },
  {
   "cell_type": "code",
   "execution_count": 188,
   "metadata": {},
   "outputs": [
    {
     "data": {
      "text/html": [
       "<div style=\"width:100%;\"><div style=\"position:relative;width:100%;height:0;padding-bottom:60%;\"><iframe src=\"data:text/html;charset=utf-8;base64,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\" style=\"position:absolute;width:100%;height:100%;left:0;top:0;border:none !important;\" allowfullscreen webkitallowfullscreen mozallowfullscreen></iframe></div></div>"
      ],
      "text/plain": [
       "<folium.folium.Map at 0x27f38c3d808>"
      ]
     },
     "execution_count": 188,
     "metadata": {},
     "output_type": "execute_result"
    }
   ],
   "source": [
    "for stop in route['detailed path']:\n",
    "    for node,detail in stop.items():\n",
    "        tooltip = 'Node: '+node\\\n",
    "        +' <br> '+'Province: '+detail['province']\\\n",
    "        +' <br> '+'Facility Name: '+detail['station_name']\\\n",
    "        +' <br> '+'Distance from previous node: '+str(round(detail['distance from previous node'],0))\\\n",
    "        +' <br> '+'Cumulative distance: '+str(round(detail['cumulative_distance'],0))\n",
    "        folium.Marker([detail['latitude'],detail['longitude']],tooltip=tooltip).add_to(base_map)\n",
    "base_map"
   ]
  }
 ],
 "metadata": {
  "kernelspec": {
   "display_name": "Python 3",
   "language": "python",
   "name": "python3"
  },
  "language_info": {
   "codemirror_mode": {
    "name": "ipython",
    "version": 3
   },
   "file_extension": ".py",
   "mimetype": "text/x-python",
   "name": "python",
   "nbconvert_exporter": "python",
   "pygments_lexer": "ipython3",
   "version": "3.7.4"
  }
 },
 "nbformat": 4,
 "nbformat_minor": 2
}
